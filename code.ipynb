{
 "cells": [
  {
   "cell_type": "code",
   "execution_count": null,
   "id": "45bf565e",
   "metadata": {},
   "outputs": [],
   "source": []
  },
  {
   "cell_type": "markdown",
   "id": "dcfbb044",
   "metadata": {},
   "source": [
    "****1. Import library****"
   ]
  },
  {
   "cell_type": "code",
   "execution_count": 23,
   "id": "9118f480",
   "metadata": {},
   "outputs": [],
   "source": [
    "import pandas as pd\n",
    "from sklearn.preprocessing import StandardScaler\n",
    "from sklearn.model_selection import train_test_split\n",
    "import matplotlib.pyplot as plt\n",
    "from sklearn.decomposition import PCA\n",
    "import numpy as np\n",
    "from sklearn.tree import DecisionTreeClassifier\n",
    "from sklearn.model_selection import KFold, cross_val_score\n",
    "from sklearn.pipeline import Pipeline\n",
    "%matplotlib inline"
   ]
  },
  {
   "cell_type": "markdown",
   "id": "3590f604",
   "metadata": {},
   "source": [
    "****2. Data preprocessing****"
   ]
  },
  {
   "cell_type": "code",
   "execution_count": 24,
   "id": "f561967a",
   "metadata": {},
   "outputs": [
    {
     "name": "stdout",
     "output_type": "stream",
     "text": [
      "<class 'pandas.core.frame.DataFrame'>\n",
      "Int64Index: 4802 entries, 0 to 4801\n",
      "Data columns (total 10 columns):\n",
      " #   Column            Non-Null Count  Dtype  \n",
      "---  ------            --------------  -----  \n",
      " 0   track_id          4802 non-null   int64  \n",
      " 1   acousticness      4802 non-null   float64\n",
      " 2   danceability      4802 non-null   float64\n",
      " 3   energy            4802 non-null   float64\n",
      " 4   instrumentalness  4802 non-null   float64\n",
      " 5   liveness          4802 non-null   float64\n",
      " 6   speechiness       4802 non-null   float64\n",
      " 7   tempo             4802 non-null   float64\n",
      " 8   valence           4802 non-null   float64\n",
      " 9   genre_top         4802 non-null   object \n",
      "dtypes: float64(8), int64(1), object(1)\n",
      "memory usage: 412.7+ KB\n",
      "None\n"
     ]
    }
   ],
   "source": [
    "# Read in track metadata with genre labels\n",
    "tracks = pd.read_csv('datasets/fma-rock-vs-hiphop.csv')\n",
    "\n",
    "# Read in track metrics with the features\n",
    "echonest_metrics = pd.read_json('datasets/echonest-metrics.json', precise_float=True)\n",
    "\n",
    "# Merge the relevant columns of tracks and echonest_metrics\n",
    "echo_tracks = echonest_metrics.merge(tracks[['track_id', 'genre_top']], on='track_id')\n",
    "# Inspect the resultant dataframe\n",
    "print(echo_tracks.info())"
   ]
  },
  {
   "cell_type": "code",
   "execution_count": 48,
   "id": "deba5f57",
   "metadata": {},
   "outputs": [
    {
     "data": {
      "text/plain": [
       "genre_top\n",
       "Hip-Hop     910\n",
       "Rock       3892\n",
       "Name: genre_top, dtype: int64"
      ]
     },
     "execution_count": 48,
     "metadata": {},
     "output_type": "execute_result"
    }
   ],
   "source": [
    "echo_tracks.groupby('genre_top').genre_top.count()"
   ]
  },
  {
   "cell_type": "markdown",
   "id": "352c0a8c",
   "metadata": {},
   "source": [
    "The number of Hip-Hop songs are far more than that of Rock songs, so the accuracy of these two genres varies, which means that our current model is only suitable for Hip-Hop songs.\n",
    "Resampling methods are required."
   ]
  },
  {
   "cell_type": "code",
   "execution_count": 59,
   "id": "1c5e5fef",
   "metadata": {},
   "outputs": [],
   "source": [
    "# Subset only the hip-hop tracks, and then only the rock tracks\n",
    "hop_only = echo_tracks.loc[echo_tracks.genre_top == 'Hip-Hop']\n",
    "rock_only = echo_tracks.loc[echo_tracks.genre_top == 'Rock']\n",
    "\n",
    "# I choose the oversampling methods here\n",
    "hop_only = hop_only.sample(rock_only.shape[0], replace=True, random_state=123)\n",
    "\n",
    "# concatenate the dataframes rock_only and hop_only\n",
    "echo_tracks_bal = pd.concat([rock_only, hop_only])"
   ]
  },
  {
   "cell_type": "code",
   "execution_count": 60,
   "id": "8115bd21",
   "metadata": {},
   "outputs": [
    {
     "name": "stdout",
     "output_type": "stream",
     "text": [
      "<class 'pandas.core.frame.DataFrame'>\n",
      "Int64Index: 7784 entries, 4 to 2750\n",
      "Data columns (total 10 columns):\n",
      " #   Column            Non-Null Count  Dtype  \n",
      "---  ------            --------------  -----  \n",
      " 0   track_id          7784 non-null   int64  \n",
      " 1   acousticness      7784 non-null   float64\n",
      " 2   danceability      7784 non-null   float64\n",
      " 3   energy            7784 non-null   float64\n",
      " 4   instrumentalness  7784 non-null   float64\n",
      " 5   liveness          7784 non-null   float64\n",
      " 6   speechiness       7784 non-null   float64\n",
      " 7   tempo             7784 non-null   float64\n",
      " 8   valence           7784 non-null   float64\n",
      " 9   genre_top         7784 non-null   object \n",
      "dtypes: float64(8), int64(1), object(1)\n",
      "memory usage: 668.9+ KB\n"
     ]
    }
   ],
   "source": [
    "echo_tracks_bal.info()"
   ]
  },
  {
   "cell_type": "code",
   "execution_count": 61,
   "id": "50661a09",
   "metadata": {},
   "outputs": [
    {
     "data": {
      "text/html": [
       "<style type=\"text/css\">\n",
       "#T_9f0a5_row0_col0, #T_9f0a5_row1_col1, #T_9f0a5_row2_col2, #T_9f0a5_row3_col3, #T_9f0a5_row4_col4, #T_9f0a5_row5_col5, #T_9f0a5_row6_col6, #T_9f0a5_row7_col7, #T_9f0a5_row8_col8 {\n",
       "  background-color: #023858;\n",
       "  color: #f1f1f1;\n",
       "}\n",
       "#T_9f0a5_row0_col1, #T_9f0a5_row1_col0, #T_9f0a5_row2_col3, #T_9f0a5_row2_col7, #T_9f0a5_row4_col2, #T_9f0a5_row4_col5, #T_9f0a5_row4_col6, #T_9f0a5_row4_col8, #T_9f0a5_row6_col4 {\n",
       "  background-color: #fff7fb;\n",
       "  color: #000000;\n",
       "}\n",
       "#T_9f0a5_row0_col2 {\n",
       "  background-color: #cacee5;\n",
       "  color: #000000;\n",
       "}\n",
       "#T_9f0a5_row0_col3 {\n",
       "  background-color: #afc1dd;\n",
       "  color: #000000;\n",
       "}\n",
       "#T_9f0a5_row0_col4 {\n",
       "  background-color: #e5e1ef;\n",
       "  color: #000000;\n",
       "}\n",
       "#T_9f0a5_row0_col5, #T_9f0a5_row3_col8 {\n",
       "  background-color: #dedcec;\n",
       "  color: #000000;\n",
       "}\n",
       "#T_9f0a5_row0_col6, #T_9f0a5_row2_col0, #T_9f0a5_row3_col7 {\n",
       "  background-color: #c1cae2;\n",
       "  color: #000000;\n",
       "}\n",
       "#T_9f0a5_row0_col7, #T_9f0a5_row2_col1 {\n",
       "  background-color: #e6e2ef;\n",
       "  color: #000000;\n",
       "}\n",
       "#T_9f0a5_row0_col8, #T_9f0a5_row8_col7 {\n",
       "  background-color: #dddbec;\n",
       "  color: #000000;\n",
       "}\n",
       "#T_9f0a5_row1_col2 {\n",
       "  background-color: #eee8f3;\n",
       "  color: #000000;\n",
       "}\n",
       "#T_9f0a5_row1_col3 {\n",
       "  background-color: #fef6fa;\n",
       "  color: #000000;\n",
       "}\n",
       "#T_9f0a5_row1_col4 {\n",
       "  background-color: #a2bcda;\n",
       "  color: #000000;\n",
       "}\n",
       "#T_9f0a5_row1_col5 {\n",
       "  background-color: #f1ebf5;\n",
       "  color: #000000;\n",
       "}\n",
       "#T_9f0a5_row1_col6 {\n",
       "  background-color: #9cb9d9;\n",
       "  color: #000000;\n",
       "}\n",
       "#T_9f0a5_row1_col7, #T_9f0a5_row1_col8, #T_9f0a5_row6_col7 {\n",
       "  background-color: #dcdaeb;\n",
       "  color: #000000;\n",
       "}\n",
       "#T_9f0a5_row2_col4 {\n",
       "  background-color: #ede7f2;\n",
       "  color: #000000;\n",
       "}\n",
       "#T_9f0a5_row2_col5, #T_9f0a5_row7_col2 {\n",
       "  background-color: #faf2f8;\n",
       "  color: #000000;\n",
       "}\n",
       "#T_9f0a5_row2_col6 {\n",
       "  background-color: #71a8ce;\n",
       "  color: #f1f1f1;\n",
       "}\n",
       "#T_9f0a5_row2_col8 {\n",
       "  background-color: #4c99c5;\n",
       "  color: #f1f1f1;\n",
       "}\n",
       "#T_9f0a5_row3_col0 {\n",
       "  background-color: #9fbad9;\n",
       "  color: #000000;\n",
       "}\n",
       "#T_9f0a5_row3_col1, #T_9f0a5_row4_col0 {\n",
       "  background-color: #f4edf6;\n",
       "  color: #000000;\n",
       "}\n",
       "#T_9f0a5_row3_col2 {\n",
       "  background-color: #fbf4f9;\n",
       "  color: #000000;\n",
       "}\n",
       "#T_9f0a5_row3_col4, #T_9f0a5_row4_col1 {\n",
       "  background-color: #b7c5df;\n",
       "  color: #000000;\n",
       "}\n",
       "#T_9f0a5_row3_col5, #T_9f0a5_row8_col0 {\n",
       "  background-color: #d3d4e7;\n",
       "  color: #000000;\n",
       "}\n",
       "#T_9f0a5_row3_col6, #T_9f0a5_row6_col0 {\n",
       "  background-color: #d5d5e8;\n",
       "  color: #000000;\n",
       "}\n",
       "#T_9f0a5_row4_col3, #T_9f0a5_row4_col7, #T_9f0a5_row7_col8 {\n",
       "  background-color: #d9d8ea;\n",
       "  color: #000000;\n",
       "}\n",
       "#T_9f0a5_row5_col0 {\n",
       "  background-color: #bdc8e1;\n",
       "  color: #000000;\n",
       "}\n",
       "#T_9f0a5_row5_col1, #T_9f0a5_row7_col0 {\n",
       "  background-color: #d7d6e9;\n",
       "  color: #000000;\n",
       "}\n",
       "#T_9f0a5_row5_col2 {\n",
       "  background-color: #e9e5f1;\n",
       "  color: #000000;\n",
       "}\n",
       "#T_9f0a5_row5_col3 {\n",
       "  background-color: #c0c9e2;\n",
       "  color: #000000;\n",
       "}\n",
       "#T_9f0a5_row5_col4 {\n",
       "  background-color: #d8d7e9;\n",
       "  color: #000000;\n",
       "}\n",
       "#T_9f0a5_row5_col6 {\n",
       "  background-color: #adc1dd;\n",
       "  color: #000000;\n",
       "}\n",
       "#T_9f0a5_row5_col7 {\n",
       "  background-color: #e2dfee;\n",
       "  color: #000000;\n",
       "}\n",
       "#T_9f0a5_row5_col8 {\n",
       "  background-color: #e7e3f0;\n",
       "  color: #000000;\n",
       "}\n",
       "#T_9f0a5_row6_col1 {\n",
       "  background-color: #b0c2de;\n",
       "  color: #000000;\n",
       "}\n",
       "#T_9f0a5_row6_col2 {\n",
       "  background-color: #8cb3d5;\n",
       "  color: #000000;\n",
       "}\n",
       "#T_9f0a5_row6_col3 {\n",
       "  background-color: #f1ebf4;\n",
       "  color: #000000;\n",
       "}\n",
       "#T_9f0a5_row6_col5 {\n",
       "  background-color: #e1dfed;\n",
       "  color: #000000;\n",
       "}\n",
       "#T_9f0a5_row6_col8 {\n",
       "  background-color: #a4bcda;\n",
       "  color: #000000;\n",
       "}\n",
       "#T_9f0a5_row7_col1 {\n",
       "  background-color: #cdd0e5;\n",
       "  color: #000000;\n",
       "}\n",
       "#T_9f0a5_row7_col3 {\n",
       "  background-color: #bfc9e1;\n",
       "  color: #000000;\n",
       "}\n",
       "#T_9f0a5_row7_col4 {\n",
       "  background-color: #b3c3de;\n",
       "  color: #000000;\n",
       "}\n",
       "#T_9f0a5_row7_col5 {\n",
       "  background-color: #f0eaf4;\n",
       "  color: #000000;\n",
       "}\n",
       "#T_9f0a5_row7_col6 {\n",
       "  background-color: #b8c6e0;\n",
       "  color: #000000;\n",
       "}\n",
       "#T_9f0a5_row8_col1 {\n",
       "  background-color: #d2d3e7;\n",
       "  color: #000000;\n",
       "}\n",
       "#T_9f0a5_row8_col2 {\n",
       "  background-color: #4a98c5;\n",
       "  color: #f1f1f1;\n",
       "}\n",
       "#T_9f0a5_row8_col3 {\n",
       "  background-color: #e0deed;\n",
       "  color: #000000;\n",
       "}\n",
       "#T_9f0a5_row8_col4 {\n",
       "  background-color: #eae6f1;\n",
       "  color: #000000;\n",
       "}\n",
       "#T_9f0a5_row8_col5 {\n",
       "  background-color: #f5eff6;\n",
       "  color: #000000;\n",
       "}\n",
       "#T_9f0a5_row8_col6 {\n",
       "  background-color: #81aed2;\n",
       "  color: #f1f1f1;\n",
       "}\n",
       "</style>\n",
       "<table id=\"T_9f0a5_\">\n",
       "  <thead>\n",
       "    <tr>\n",
       "      <th class=\"blank level0\" >&nbsp;</th>\n",
       "      <th class=\"col_heading level0 col0\" >track_id</th>\n",
       "      <th class=\"col_heading level0 col1\" >acousticness</th>\n",
       "      <th class=\"col_heading level0 col2\" >danceability</th>\n",
       "      <th class=\"col_heading level0 col3\" >energy</th>\n",
       "      <th class=\"col_heading level0 col4\" >instrumentalness</th>\n",
       "      <th class=\"col_heading level0 col5\" >liveness</th>\n",
       "      <th class=\"col_heading level0 col6\" >speechiness</th>\n",
       "      <th class=\"col_heading level0 col7\" >tempo</th>\n",
       "      <th class=\"col_heading level0 col8\" >valence</th>\n",
       "    </tr>\n",
       "  </thead>\n",
       "  <tbody>\n",
       "    <tr>\n",
       "      <th id=\"T_9f0a5_level0_row0\" class=\"row_heading level0 row0\" >track_id</th>\n",
       "      <td id=\"T_9f0a5_row0_col0\" class=\"data row0 col0\" >1.000000</td>\n",
       "      <td id=\"T_9f0a5_row0_col1\" class=\"data row0 col1\" >-0.328082</td>\n",
       "      <td id=\"T_9f0a5_row0_col2\" class=\"data row0 col2\" >0.066177</td>\n",
       "      <td id=\"T_9f0a5_row0_col3\" class=\"data row0 col3\" >0.193593</td>\n",
       "      <td id=\"T_9f0a5_row0_col4\" class=\"data row0 col4\" >-0.225482</td>\n",
       "      <td id=\"T_9f0a5_row0_col5\" class=\"data row0 col5\" >0.077084</td>\n",
       "      <td id=\"T_9f0a5_row0_col6\" class=\"data row0 col6\" >-0.025706</td>\n",
       "      <td id=\"T_9f0a5_row0_col7\" class=\"data row0 col7\" >-0.034402</td>\n",
       "      <td id=\"T_9f0a5_row0_col8\" class=\"data row0 col8\" >-0.011693</td>\n",
       "    </tr>\n",
       "    <tr>\n",
       "      <th id=\"T_9f0a5_level0_row1\" class=\"row_heading level0 row1\" >acousticness</th>\n",
       "      <td id=\"T_9f0a5_row1_col0\" class=\"data row1 col0\" >-0.328082</td>\n",
       "      <td id=\"T_9f0a5_row1_col1\" class=\"data row1 col1\" >1.000000</td>\n",
       "      <td id=\"T_9f0a5_row1_col2\" class=\"data row1 col2\" >-0.125691</td>\n",
       "      <td id=\"T_9f0a5_row1_col3\" class=\"data row1 col3\" >-0.229314</td>\n",
       "      <td id=\"T_9f0a5_row1_col4\" class=\"data row1 col4\" >0.104775</td>\n",
       "      <td id=\"T_9f0a5_row1_col5\" class=\"data row1 col5\" >-0.034193</td>\n",
       "      <td id=\"T_9f0a5_row1_col6\" class=\"data row1 col6\" >0.128767</td>\n",
       "      <td id=\"T_9f0a5_row1_col7\" class=\"data row1 col7\" >0.018133</td>\n",
       "      <td id=\"T_9f0a5_row1_col8\" class=\"data row1 col8\" >-0.008556</td>\n",
       "    </tr>\n",
       "    <tr>\n",
       "      <th id=\"T_9f0a5_level0_row2\" class=\"row_heading level0 row2\" >danceability</th>\n",
       "      <td id=\"T_9f0a5_row2_col0\" class=\"data row2 col0\" >0.066177</td>\n",
       "      <td id=\"T_9f0a5_row2_col1\" class=\"data row2 col1\" >-0.125691</td>\n",
       "      <td id=\"T_9f0a5_row2_col2\" class=\"data row2 col2\" >1.000000</td>\n",
       "      <td id=\"T_9f0a5_row2_col3\" class=\"data row2 col3\" >-0.239903</td>\n",
       "      <td id=\"T_9f0a5_row2_col4\" class=\"data row2 col4\" >-0.273475</td>\n",
       "      <td id=\"T_9f0a5_row2_col5\" class=\"data row2 col5\" >-0.095201</td>\n",
       "      <td id=\"T_9f0a5_row2_col6\" class=\"data row2 col6\" >0.284710</td>\n",
       "      <td id=\"T_9f0a5_row2_col7\" class=\"data row2 col7\" >-0.225044</td>\n",
       "      <td id=\"T_9f0a5_row2_col8\" class=\"data row2 col8\" >0.470436</td>\n",
       "    </tr>\n",
       "    <tr>\n",
       "      <th id=\"T_9f0a5_level0_row3\" class=\"row_heading level0 row3\" >energy</th>\n",
       "      <td id=\"T_9f0a5_row3_col0\" class=\"data row3 col0\" >0.193593</td>\n",
       "      <td id=\"T_9f0a5_row3_col1\" class=\"data row3 col1\" >-0.229314</td>\n",
       "      <td id=\"T_9f0a5_row3_col2\" class=\"data row3 col2\" >-0.239903</td>\n",
       "      <td id=\"T_9f0a5_row3_col3\" class=\"data row3 col3\" >1.000000</td>\n",
       "      <td id=\"T_9f0a5_row3_col4\" class=\"data row3 col4\" >0.021298</td>\n",
       "      <td id=\"T_9f0a5_row3_col5\" class=\"data row3 col5\" >0.132374</td>\n",
       "      <td id=\"T_9f0a5_row3_col6\" class=\"data row3 col6\" >-0.119099</td>\n",
       "      <td id=\"T_9f0a5_row3_col7\" class=\"data row3 col7\" >0.134179</td>\n",
       "      <td id=\"T_9f0a5_row3_col8\" class=\"data row3 col8\" >-0.018821</td>\n",
       "    </tr>\n",
       "    <tr>\n",
       "      <th id=\"T_9f0a5_level0_row4\" class=\"row_heading level0 row4\" >instrumentalness</th>\n",
       "      <td id=\"T_9f0a5_row4_col0\" class=\"data row4 col0\" >-0.225482</td>\n",
       "      <td id=\"T_9f0a5_row4_col1\" class=\"data row4 col1\" >0.104775</td>\n",
       "      <td id=\"T_9f0a5_row4_col2\" class=\"data row4 col2\" >-0.273475</td>\n",
       "      <td id=\"T_9f0a5_row4_col3\" class=\"data row4 col3\" >0.021298</td>\n",
       "      <td id=\"T_9f0a5_row4_col4\" class=\"data row4 col4\" >1.000000</td>\n",
       "      <td id=\"T_9f0a5_row4_col5\" class=\"data row4 col5\" >-0.137854</td>\n",
       "      <td id=\"T_9f0a5_row4_col6\" class=\"data row4 col6\" >-0.453138</td>\n",
       "      <td id=\"T_9f0a5_row4_col7\" class=\"data row4 col7\" >0.036731</td>\n",
       "      <td id=\"T_9f0a5_row4_col8\" class=\"data row4 col8\" >-0.255288</td>\n",
       "    </tr>\n",
       "    <tr>\n",
       "      <th id=\"T_9f0a5_level0_row5\" class=\"row_heading level0 row5\" >liveness</th>\n",
       "      <td id=\"T_9f0a5_row5_col0\" class=\"data row5 col0\" >0.077084</td>\n",
       "      <td id=\"T_9f0a5_row5_col1\" class=\"data row5 col1\" >-0.034193</td>\n",
       "      <td id=\"T_9f0a5_row5_col2\" class=\"data row5 col2\" >-0.095201</td>\n",
       "      <td id=\"T_9f0a5_row5_col3\" class=\"data row5 col3\" >0.132374</td>\n",
       "      <td id=\"T_9f0a5_row5_col4\" class=\"data row5 col4\" >-0.137854</td>\n",
       "      <td id=\"T_9f0a5_row5_col5\" class=\"data row5 col5\" >1.000000</td>\n",
       "      <td id=\"T_9f0a5_row5_col6\" class=\"data row5 col6\" >0.059255</td>\n",
       "      <td id=\"T_9f0a5_row5_col7\" class=\"data row5 col7\" >-0.018512</td>\n",
       "      <td id=\"T_9f0a5_row5_col8\" class=\"data row5 col8\" >-0.065762</td>\n",
       "    </tr>\n",
       "    <tr>\n",
       "      <th id=\"T_9f0a5_level0_row6\" class=\"row_heading level0 row6\" >speechiness</th>\n",
       "      <td id=\"T_9f0a5_row6_col0\" class=\"data row6 col0\" >-0.025706</td>\n",
       "      <td id=\"T_9f0a5_row6_col1\" class=\"data row6 col1\" >0.128767</td>\n",
       "      <td id=\"T_9f0a5_row6_col2\" class=\"data row6 col2\" >0.284710</td>\n",
       "      <td id=\"T_9f0a5_row6_col3\" class=\"data row6 col3\" >-0.119099</td>\n",
       "      <td id=\"T_9f0a5_row6_col4\" class=\"data row6 col4\" >-0.453138</td>\n",
       "      <td id=\"T_9f0a5_row6_col5\" class=\"data row6 col5\" >0.059255</td>\n",
       "      <td id=\"T_9f0a5_row6_col6\" class=\"data row6 col6\" >1.000000</td>\n",
       "      <td id=\"T_9f0a5_row6_col7\" class=\"data row6 col7\" >0.017230</td>\n",
       "      <td id=\"T_9f0a5_row6_col8\" class=\"data row6 col8\" >0.223397</td>\n",
       "    </tr>\n",
       "    <tr>\n",
       "      <th id=\"T_9f0a5_level0_row7\" class=\"row_heading level0 row7\" >tempo</th>\n",
       "      <td id=\"T_9f0a5_row7_col0\" class=\"data row7 col0\" >-0.034402</td>\n",
       "      <td id=\"T_9f0a5_row7_col1\" class=\"data row7 col1\" >0.018133</td>\n",
       "      <td id=\"T_9f0a5_row7_col2\" class=\"data row7 col2\" >-0.225044</td>\n",
       "      <td id=\"T_9f0a5_row7_col3\" class=\"data row7 col3\" >0.134179</td>\n",
       "      <td id=\"T_9f0a5_row7_col4\" class=\"data row7 col4\" >0.036731</td>\n",
       "      <td id=\"T_9f0a5_row7_col5\" class=\"data row7 col5\" >-0.018512</td>\n",
       "      <td id=\"T_9f0a5_row7_col6\" class=\"data row7 col6\" >0.017230</td>\n",
       "      <td id=\"T_9f0a5_row7_col7\" class=\"data row7 col7\" >1.000000</td>\n",
       "      <td id=\"T_9f0a5_row7_col8\" class=\"data row7 col8\" >0.012429</td>\n",
       "    </tr>\n",
       "    <tr>\n",
       "      <th id=\"T_9f0a5_level0_row8\" class=\"row_heading level0 row8\" >valence</th>\n",
       "      <td id=\"T_9f0a5_row8_col0\" class=\"data row8 col0\" >-0.011693</td>\n",
       "      <td id=\"T_9f0a5_row8_col1\" class=\"data row8 col1\" >-0.008556</td>\n",
       "      <td id=\"T_9f0a5_row8_col2\" class=\"data row8 col2\" >0.470436</td>\n",
       "      <td id=\"T_9f0a5_row8_col3\" class=\"data row8 col3\" >-0.018821</td>\n",
       "      <td id=\"T_9f0a5_row8_col4\" class=\"data row8 col4\" >-0.255288</td>\n",
       "      <td id=\"T_9f0a5_row8_col5\" class=\"data row8 col5\" >-0.065762</td>\n",
       "      <td id=\"T_9f0a5_row8_col6\" class=\"data row8 col6\" >0.223397</td>\n",
       "      <td id=\"T_9f0a5_row8_col7\" class=\"data row8 col7\" >0.012429</td>\n",
       "      <td id=\"T_9f0a5_row8_col8\" class=\"data row8 col8\" >1.000000</td>\n",
       "    </tr>\n",
       "  </tbody>\n",
       "</table>\n"
      ],
      "text/plain": [
       "<pandas.io.formats.style.Styler at 0x7ff31ad48670>"
      ]
     },
     "execution_count": 61,
     "metadata": {},
     "output_type": "execute_result"
    }
   ],
   "source": [
    "# Create a correlation matrix\n",
    "corr_metrics = echo_tracks_bal.corr()\n",
    "corr_metrics.style.background_gradient()"
   ]
  },
  {
   "cell_type": "markdown",
   "id": "9d7cb46c",
   "metadata": {},
   "source": [
    " There is no obvious correlationships among features"
   ]
  },
  {
   "cell_type": "code",
   "execution_count": 62,
   "id": "5051e5cf",
   "metadata": {},
   "outputs": [],
   "source": [
    "# Create features\n",
    "features = echo_tracks_bal.drop(columns=['genre_top','track_id'])\n",
    "\n",
    "# Create labels\n",
    "labels = echo_tracks_bal['genre_top']\n",
    "\n",
    "# Split our data\n",
    "train_features, test_features, train_labels, test_labels = train_test_split(\n",
    "                    features, labels, random_state=10)"
   ]
  },
  {
   "cell_type": "code",
   "execution_count": 63,
   "id": "d501b108",
   "metadata": {},
   "outputs": [],
   "source": [
    "# Scale the features and set the values to a new variable\n",
    "scaler = StandardScaler()\n",
    "\n",
    "# Scale train_features and test_features\n",
    "scaled_train_features = scaler.fit_transform(train_features)\n",
    "scaled_test_features = scaler.fit_transform(test_features)"
   ]
  },
  {
   "cell_type": "code",
   "execution_count": 64,
   "id": "d1beb9f9",
   "metadata": {},
   "outputs": [
    {
     "data": {
      "image/png": "[encoded data removed]",
      "text/plain": [
       "<Figure size 432x288 with 1 Axes>"
      ]
     },
     "metadata": {
      "needs_background": "light"
     },
     "output_type": "display_data"
    }
   ],
   "source": [
    "# Get our explained variance ratios from PCA using all features\n",
    "pca = PCA()\n",
    "pca.fit(scaled_train_features)\n",
    "exp_variance = pca.explained_variance_ratio_\n",
    "# plot the explained variance using a barplot\n",
    "fig, ax = plt.subplots()\n",
    "ax.bar(range(pca.n_components_),exp_variance)\n",
    "ax.set_xlabel('Principal Component #')\n",
    "plt.show()"
   ]
  },
  {
   "cell_type": "code",
   "execution_count": 65,
   "id": "386ff437",
   "metadata": {},
   "outputs": [
    {
     "data": {
      "image/png": "[encoded data removed]",
      "text/plain": [
       "<Figure size 432x288 with 1 Axes>"
      ]
     },
     "metadata": {
      "needs_background": "light"
     },
     "output_type": "display_data"
    }
   ],
   "source": [
    "# Calculate the cumulative explained variance\n",
    "cum_exp_variance = np.cumsum(exp_variance)\n",
    "\n",
    "# Plot the cumulative explained variance and draw a dashed line at 0.85.\n",
    "fig, ax = plt.subplots()\n",
    "plt.bar(range(pca.n_components_), cum_exp_variance)\n",
    "ax.axhline(y=0.85, linestyle='--')\n",
    "plt.show()"
   ]
  },
  {
   "cell_type": "markdown",
   "id": "d2ce6a98",
   "metadata": {},
   "source": [
    "The first 6 features can explain up to 85%  of the variance, so we can use only 6 features to reduce the dimensionality."
   ]
  },
  {
   "cell_type": "code",
   "execution_count": 66,
   "id": "4cbf56cc",
   "metadata": {},
   "outputs": [],
   "source": [
    "# Perform PCA with the chosen number of components and project data onto components\n",
    "pca = PCA(n_components=6, random_state=10)\n",
    "\n",
    "# Fit and transform the scaled training features using pca\n",
    "train_pca = pca.fit_transform(scaled_train_features)\n",
    "\n",
    "# Fit and transform the scaled test features using pca\n",
    "test_pca = pca.fit_transform(scaled_test_features)"
   ]
  },
  {
   "cell_type": "markdown",
   "id": "5dc39bf2",
   "metadata": {},
   "source": [
    "****3. Choose models and evaluate them****"
   ]
  },
  {
   "cell_type": "markdown",
   "id": "ed305ba3",
   "metadata": {},
   "source": [
    "Decision tree and Logistic regression are common models to predict our data here."
   ]
  },
  {
   "cell_type": "code",
   "execution_count": 67,
   "id": "42a6875d",
   "metadata": {},
   "outputs": [],
   "source": [
    "# Train our decision tree\n",
    "tree = DecisionTreeClassifier(random_state=10)\n",
    "tree.fit(train_pca, train_labels)\n",
    "\n",
    "# Predict the labels for the test data\n",
    "pred_labels_tree = tree.predict(test_pca)"
   ]
  },
  {
   "cell_type": "code",
   "execution_count": 68,
   "id": "2a73e5c3",
   "metadata": {},
   "outputs": [],
   "source": [
    "# Import LogisticRegression\n",
    "from sklearn.linear_model import LogisticRegression\n",
    "\n",
    "# Train our logistic regression and predict labels for the test set\n",
    "logreg = LogisticRegression(random_state=10)\n",
    "logreg.fit(train_pca, train_labels)\n",
    "pred_labels_logit = logreg.predict(test_pca)"
   ]
  },
  {
   "cell_type": "code",
   "execution_count": 69,
   "id": "9ab6a381",
   "metadata": {},
   "outputs": [
    {
     "name": "stdout",
     "output_type": "stream",
     "text": [
      "Decision Tree: \n",
      "               precision    recall  f1-score   support\n",
      "\n",
      "     Hip-Hop       0.81      0.61      0.69       952\n",
      "        Rock       0.70      0.87      0.77       994\n",
      "\n",
      "    accuracy                           0.74      1946\n",
      "   macro avg       0.75      0.74      0.73      1946\n",
      "weighted avg       0.75      0.74      0.73      1946\n",
      "\n",
      "Logistic Regression: \n",
      "               precision    recall  f1-score   support\n",
      "\n",
      "     Hip-Hop       0.80      0.82      0.81       952\n",
      "        Rock       0.82      0.80      0.81       994\n",
      "\n",
      "    accuracy                           0.81      1946\n",
      "   macro avg       0.81      0.81      0.81      1946\n",
      "weighted avg       0.81      0.81      0.81      1946\n",
      "\n"
     ]
    }
   ],
   "source": [
    "# Create the classification report for both models\n",
    "from sklearn.metrics import classification_report\n",
    "class_rep_tree = classification_report(test_labels, pred_labels_tree)\n",
    "class_rep_log = classification_report(test_labels,pred_labels_logit)\n",
    "\n",
    "print(\"Decision Tree: \\n\", class_rep_tree)\n",
    "print(\"Logistic Regression: \\n\", class_rep_log)"
   ]
  },
  {
   "cell_type": "markdown",
   "id": "fe162827",
   "metadata": {},
   "source": [
    "To eliminate the effect of splitting training datasets and test datasets randomly, the K-fold CV method is applied here."
   ]
  },
  {
   "cell_type": "code",
   "execution_count": 70,
   "id": "728af5e0",
   "metadata": {},
   "outputs": [
    {
     "name": "stdout",
     "output_type": "stream",
     "text": [
      "Decision Tree: 0.9343661209579219 Logistic Regression: 0.7657718187248169\n"
     ]
    }
   ],
   "source": [
    "tree_pipe = Pipeline([(\"scaler\", StandardScaler()), (\"pca\", PCA(n_components=6)), \n",
    "                      (\"tree\", DecisionTreeClassifier(random_state=10))])\n",
    "logreg_pipe = Pipeline([(\"scaler\", StandardScaler()), (\"pca\", PCA(n_components=6)), \n",
    "                        (\"logreg\", LogisticRegression(random_state=10))])\n",
    "\n",
    "# Set up our K-fold cross-validation\n",
    "kf = KFold(10)\n",
    "\n",
    "# Train our models using KFold cv\n",
    "tree_score = cross_val_score(tree_pipe, features, labels, cv=kf)\n",
    "logit_score = cross_val_score(logreg_pipe, features, labels, cv=kf)\n",
    "\n",
    "# Print the mean of each array of scores\n",
    "print(\"Decision Tree:\", np.mean(tree_score), \"Logistic Regression:\", np.mean(logit_score))"
   ]
  },
  {
   "cell_type": "markdown",
   "id": "23d41a1a",
   "metadata": {},
   "source": [
    "It shows that Decision Tree is much more accurate in predicting the genre of songs by our 6 features."
   ]
  }
 ],
 "metadata": {
  "kernelspec": {
   "display_name": "Python 3 (ipykernel)",
   "language": "python",
   "name": "python3"
  },
  "language_info": {
   "codemirror_mode": {
    "name": "ipython",
    "version": 3
   },
   "file_extension": ".py",
   "mimetype": "text/x-python",
   "name": "python",
   "nbconvert_exporter": "python",
   "pygments_lexer": "ipython3",
   "version": "3.9.7"
  }
 },
 "nbformat": 4,
 "nbformat_minor": 5
}
